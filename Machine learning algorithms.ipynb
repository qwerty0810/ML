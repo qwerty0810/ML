{
 "cells": [
  {
   "cell_type": "code",
   "execution_count": 2,
   "id": "db6c9056",
   "metadata": {},
   "outputs": [],
   "source": [
    "#Machine learning Algos are divided into two types: Supervised and unsupervised."
   ]
  },
  {
   "cell_type": "code",
   "execution_count": 3,
   "id": "9344451e",
   "metadata": {},
   "outputs": [],
   "source": [
    "#Supervised ML works on a labelled dataset. \n",
    "#Relationship between input data and output data is known.\n",
    "#Using supervised ML algo, we can solve two types of problems: Regression and Classification\n"
   ]
  },
  {
   "cell_type": "code",
   "execution_count": 4,
   "id": "15f5b4be",
   "metadata": {},
   "outputs": [],
   "source": [
    "#The algos of regression are: Linear regression \n",
    "#The algos for classification are: logistic regression, decision tree, random forest, support vector machine, naive bayes algo\n",
    "#, and KNN "
   ]
  },
  {
   "cell_type": "code",
   "execution_count": 5,
   "id": "43a92d24",
   "metadata": {},
   "outputs": [],
   "source": [
    "#Unsupervised ML algo works on unlabelled dataset.\n",
    "#relationship between input data and output data is not known. Machine should learn for itself and hence it is unsupervised\n",
    "#We can solve two types of problems in unsupervised: clustering and association."
   ]
  },
  {
   "cell_type": "code",
   "execution_count": 6,
   "id": "e7792d7e",
   "metadata": {},
   "outputs": [],
   "source": [
    "#The algos for clustering are: K means clustering, PCA(principle component analysis)\n",
    "#Algos for association are: Apriori algo(market-basket analysis)"
   ]
  },
  {
   "cell_type": "code",
   "execution_count": null,
   "id": "b7dfffe4",
   "metadata": {},
   "outputs": [],
   "source": []
  }
 ],
 "metadata": {
  "kernelspec": {
   "display_name": "Python 3 (ipykernel)",
   "language": "python",
   "name": "python3"
  },
  "language_info": {
   "codemirror_mode": {
    "name": "ipython",
    "version": 3
   },
   "file_extension": ".py",
   "mimetype": "text/x-python",
   "name": "python",
   "nbconvert_exporter": "python",
   "pygments_lexer": "ipython3",
   "version": "3.9.12"
  }
 },
 "nbformat": 4,
 "nbformat_minor": 5
}
