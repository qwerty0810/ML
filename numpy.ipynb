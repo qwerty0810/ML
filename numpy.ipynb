{
 "cells": [
  {
   "cell_type": "code",
   "execution_count": 1,
   "id": "b92138df",
   "metadata": {},
   "outputs": [],
   "source": [
    "#numpy: It is a fundamental package for scientific computing using python. Main benefit of numpy is powerful n-dimensional\n",
    "#array it provides. \n",
    "#Array is a collection of items.\n",
    "#Numpy= numerical+python(for scientific computing)\n",
    "#pandas= panel+data(for dataframe manipulation)"
   ]
  },
  {
   "cell_type": "code",
   "execution_count": 2,
   "id": "124ad641",
   "metadata": {},
   "outputs": [],
   "source": [
    "import numpy as np\n"
   ]
  },
  {
   "cell_type": "code",
   "execution_count": 3,
   "id": "c6c77eee",
   "metadata": {},
   "outputs": [
    {
     "data": {
      "text/plain": [
       "array([0, 1, 2, 3, 4, 5, 6, 7, 8, 9])"
      ]
     },
     "execution_count": 3,
     "metadata": {},
     "output_type": "execute_result"
    }
   ],
   "source": [
    "np.arange(0,10)"
   ]
  },
  {
   "cell_type": "code",
   "execution_count": 4,
   "id": "ee4eb075",
   "metadata": {},
   "outputs": [
    {
     "data": {
      "text/plain": [
       "array([ 0,  1,  2,  3,  4,  5,  6,  7,  8,  9, 10, 11, 12, 13, 14, 15, 16,\n",
       "       17, 18, 19])"
      ]
     },
     "execution_count": 4,
     "metadata": {},
     "output_type": "execute_result"
    }
   ],
   "source": [
    "np.arange(20)"
   ]
  },
  {
   "cell_type": "code",
   "execution_count": 7,
   "id": "2168474d",
   "metadata": {},
   "outputs": [
    {
     "data": {
      "text/plain": [
       "array([ 0,  2,  4,  6,  8, 10, 12, 14, 16, 18, 20, 22, 24, 26, 28, 30, 32,\n",
       "       34, 36, 38, 40, 42, 44, 46, 48])"
      ]
     },
     "execution_count": 7,
     "metadata": {},
     "output_type": "execute_result"
    }
   ],
   "source": [
    "#generating numbers from 0 to 50 with an interval of 2\n",
    "np.arange(0,50,2)"
   ]
  },
  {
   "cell_type": "code",
   "execution_count": 8,
   "id": "6f66ecad",
   "metadata": {},
   "outputs": [
    {
     "data": {
      "text/plain": [
       "array([0., 0., 0., 0., 0., 0., 0., 0., 0., 0., 0., 0., 0., 0., 0., 0., 0.,\n",
       "       0., 0., 0., 0., 0., 0., 0., 0., 0., 0., 0., 0., 0., 0., 0., 0., 0.,\n",
       "       0., 0., 0., 0., 0., 0., 0., 0., 0., 0., 0., 0., 0., 0., 0., 0., 0.,\n",
       "       0., 0., 0., 0., 0., 0., 0., 0., 0., 0., 0.])"
      ]
     },
     "execution_count": 8,
     "metadata": {},
     "output_type": "execute_result"
    }
   ],
   "source": [
    "np.zeros(62)"
   ]
  },
  {
   "cell_type": "code",
   "execution_count": 9,
   "id": "cf56ab3e",
   "metadata": {},
   "outputs": [
    {
     "data": {
      "text/plain": [
       "array([[0., 0., 0.],\n",
       "       [0., 0., 0.],\n",
       "       [0., 0., 0.]])"
      ]
     },
     "execution_count": 9,
     "metadata": {},
     "output_type": "execute_result"
    }
   ],
   "source": [
    "np.zeros((3,3))"
   ]
  },
  {
   "cell_type": "code",
   "execution_count": 17,
   "id": "6bb74ef3",
   "metadata": {},
   "outputs": [
    {
     "data": {
      "text/plain": [
       "array([[1., 1., 1., 1., 1.],\n",
       "       [1., 1., 1., 1., 1.],\n",
       "       [1., 1., 1., 1., 1.],\n",
       "       [1., 1., 1., 1., 1.],\n",
       "       [1., 1., 1., 1., 1.],\n",
       "       [1., 1., 1., 1., 1.]])"
      ]
     },
     "execution_count": 17,
     "metadata": {},
     "output_type": "execute_result"
    }
   ],
   "source": [
    "k=np.ones((6,5))\n",
    "k"
   ]
  },
  {
   "cell_type": "code",
   "execution_count": 18,
   "id": "65d5d453",
   "metadata": {},
   "outputs": [
    {
     "data": {
      "text/plain": [
       "6"
      ]
     },
     "execution_count": 18,
     "metadata": {},
     "output_type": "execute_result"
    }
   ],
   "source": [
    "len(k)"
   ]
  },
  {
   "cell_type": "code",
   "execution_count": 19,
   "id": "66e70fb9",
   "metadata": {},
   "outputs": [
    {
     "data": {
      "text/plain": [
       "array([[1., 1., 1., 1., 1., 1.],\n",
       "       [1., 1., 1., 1., 1., 1.],\n",
       "       [1., 1., 1., 1., 1., 1.],\n",
       "       [1., 1., 1., 1., 1., 1.],\n",
       "       [1., 1., 1., 1., 1., 1.]])"
      ]
     },
     "execution_count": 19,
     "metadata": {},
     "output_type": "execute_result"
    }
   ],
   "source": [
    "k.reshape(5,6)"
   ]
  },
  {
   "cell_type": "code",
   "execution_count": 20,
   "id": "86967131",
   "metadata": {},
   "outputs": [
    {
     "data": {
      "text/plain": [
       "array([[0.76118661, 0.31837526, 0.85333653, 0.8050697 ],\n",
       "       [0.47679667, 0.80807482, 0.06081926, 0.32984881],\n",
       "       [0.56001319, 0.17430683, 0.49316731, 0.66126513],\n",
       "       [0.00517128, 0.79188687, 0.67446025, 0.1867925 ]])"
      ]
     },
     "execution_count": 20,
     "metadata": {},
     "output_type": "execute_result"
    }
   ],
   "source": [
    "np.random.rand(4,4)"
   ]
  },
  {
   "cell_type": "code",
   "execution_count": 24,
   "id": "75fdf5df",
   "metadata": {},
   "outputs": [
    {
     "data": {
      "text/plain": [
       "array([6, 5, 6])"
      ]
     },
     "execution_count": 24,
     "metadata": {},
     "output_type": "execute_result"
    }
   ],
   "source": [
    "np.random.randint(4,15,3)"
   ]
  },
  {
   "cell_type": "code",
   "execution_count": 29,
   "id": "2151e11d",
   "metadata": {},
   "outputs": [
    {
     "data": {
      "text/plain": [
       "array([70, 13, 85, 84, 66, 45, 35, 44, 12, 34])"
      ]
     },
     "execution_count": 29,
     "metadata": {},
     "output_type": "execute_result"
    }
   ],
   "source": [
    "m=np.random.randint(4,100,10)\n",
    "m"
   ]
  },
  {
   "cell_type": "code",
   "execution_count": 28,
   "id": "b0ea9961",
   "metadata": {},
   "outputs": [
    {
     "data": {
      "text/plain": [
       "array([[42, 32, 54, 32,  4],\n",
       "       [14,  5, 16, 35,  6],\n",
       "       [31, 29, 53, 35, 52],\n",
       "       [59, 13, 41, 41, 16],\n",
       "       [15,  6, 58, 33, 35]])"
      ]
     },
     "execution_count": 28,
     "metadata": {},
     "output_type": "execute_result"
    }
   ],
   "source": [
    "np.random.randint(4,60,(5,5))"
   ]
  },
  {
   "cell_type": "code",
   "execution_count": 30,
   "id": "72bc7716",
   "metadata": {},
   "outputs": [
    {
     "data": {
      "text/plain": [
       "34"
      ]
     },
     "execution_count": 30,
     "metadata": {},
     "output_type": "execute_result"
    }
   ],
   "source": [
    "m[-1]"
   ]
  },
  {
   "cell_type": "code",
   "execution_count": 33,
   "id": "333d0ec7",
   "metadata": {},
   "outputs": [
    {
     "data": {
      "text/plain": [
       "array([45, 35, 44, 12, 34])"
      ]
     },
     "execution_count": 33,
     "metadata": {},
     "output_type": "execute_result"
    }
   ],
   "source": [
    "m[-5:]"
   ]
  },
  {
   "cell_type": "code",
   "execution_count": 34,
   "id": "9084537a",
   "metadata": {},
   "outputs": [
    {
     "data": {
      "text/plain": [
       "array([70, 13, 85, 84, 66])"
      ]
     },
     "execution_count": 34,
     "metadata": {},
     "output_type": "execute_result"
    }
   ],
   "source": [
    "m[:-5]"
   ]
  },
  {
   "cell_type": "code",
   "execution_count": 35,
   "id": "3c89a642",
   "metadata": {},
   "outputs": [
    {
     "data": {
      "text/plain": [
       "array([70, 13, 85, 84, 66, 45, 35, 44, 12, 34])"
      ]
     },
     "execution_count": 35,
     "metadata": {},
     "output_type": "execute_result"
    }
   ],
   "source": [
    "m[:]"
   ]
  },
  {
   "cell_type": "code",
   "execution_count": 37,
   "id": "7d2be79f",
   "metadata": {},
   "outputs": [
    {
     "data": {
      "text/plain": [
       "array([85, 84, 66, 45, 35])"
      ]
     },
     "execution_count": 37,
     "metadata": {},
     "output_type": "execute_result"
    }
   ],
   "source": [
    "m[2:7]"
   ]
  },
  {
   "cell_type": "code",
   "execution_count": 39,
   "id": "a4da675d",
   "metadata": {},
   "outputs": [
    {
     "data": {
      "text/plain": [
       "array([70, 85, 84, 66])"
      ]
     },
     "execution_count": 39,
     "metadata": {},
     "output_type": "execute_result"
    }
   ],
   "source": [
    "#conditional indexing\n",
    "m[m>50]"
   ]
  },
  {
   "cell_type": "code",
   "execution_count": 40,
   "id": "1a41ffcd",
   "metadata": {},
   "outputs": [],
   "source": [
    "m[m>50]=60"
   ]
  },
  {
   "cell_type": "code",
   "execution_count": 41,
   "id": "893e802d",
   "metadata": {},
   "outputs": [
    {
     "data": {
      "text/plain": [
       "array([60, 13, 60, 60, 60, 45, 35, 44, 12, 34])"
      ]
     },
     "execution_count": 41,
     "metadata": {},
     "output_type": "execute_result"
    }
   ],
   "source": [
    "m"
   ]
  },
  {
   "cell_type": "code",
   "execution_count": 42,
   "id": "600cf36b",
   "metadata": {},
   "outputs": [],
   "source": [
    "n=m.copy()"
   ]
  },
  {
   "cell_type": "code",
   "execution_count": 43,
   "id": "f5fef46f",
   "metadata": {},
   "outputs": [
    {
     "data": {
      "text/plain": [
       "array([60, 13, 60, 60, 60, 45, 35, 44, 12, 34])"
      ]
     },
     "execution_count": 43,
     "metadata": {},
     "output_type": "execute_result"
    }
   ],
   "source": [
    "n"
   ]
  },
  {
   "cell_type": "code",
   "execution_count": null,
   "id": "859d3e94",
   "metadata": {},
   "outputs": [],
   "source": []
  }
 ],
 "metadata": {
  "kernelspec": {
   "display_name": "Python 3 (ipykernel)",
   "language": "python",
   "name": "python3"
  },
  "language_info": {
   "codemirror_mode": {
    "name": "ipython",
    "version": 3
   },
   "file_extension": ".py",
   "mimetype": "text/x-python",
   "name": "python",
   "nbconvert_exporter": "python",
   "pygments_lexer": "ipython3",
   "version": "3.9.12"
  }
 },
 "nbformat": 4,
 "nbformat_minor": 5
}
